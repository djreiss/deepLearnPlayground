{
 "cells": [
  {
   "cell_type": "markdown",
   "metadata": {},
   "source": [
    "Example from https://github.com/fchollet/keras/blob/master/examples/mnist_cnn.py\n",
    "\n",
    "- Trains a simple convnet on the MNIST dataset.\n",
    "- Gets to 99.25% test accuracy after 12 epochs\n",
    " (there is still a lot of margin for parameter tuning).\n",
    "- 16 seconds per epoch on a GRID K520 GPU."
   ]
  },
  {
   "cell_type": "markdown",
   "metadata": {},
   "source": [
    "Keras seems to use Theano as backend by default. To change to using TensorFlow, edit ~/.keras/keras.json and replace `theano` with `tensorflow`.\n",
    "\n",
    "Or set environment value: `KERAS_BACKEND=tensorflow`. \n",
    "\n",
    "See https://keras.io/backend/"
   ]
  },
  {
   "cell_type": "code",
   "execution_count": 1,
   "metadata": {
    "collapsed": true
   },
   "outputs": [],
   "source": [
    "import numpy as np\n",
    "%matplotlib inline\n",
    "from matplotlib import pyplot as plt"
   ]
  },
  {
   "cell_type": "code",
   "execution_count": 2,
   "metadata": {},
   "outputs": [
    {
     "name": "stderr",
     "output_type": "stream",
     "text": [
      "Using TensorFlow backend.\n"
     ]
    }
   ],
   "source": [
    "from __future__ import print_function\n",
    "import keras\n",
    "from keras.datasets import mnist\n",
    "from keras.models import Sequential\n",
    "from keras.layers import Dense, Dropout, Flatten\n",
    "from keras.layers import Conv2D, MaxPooling2D\n",
    "from keras import backend as K"
   ]
  },
  {
   "cell_type": "code",
   "execution_count": 3,
   "metadata": {},
   "outputs": [
    {
     "name": "stdout",
     "output_type": "stream",
     "text": [
      "(60000, 28, 28) (60000,) (10000, 28, 28) (10000,)\n"
     ]
    }
   ],
   "source": [
    "batch_size = 128\n",
    "num_classes = 10\n",
    "epochs = 12\n",
    "\n",
    "# input image dimensions\n",
    "img_rows, img_cols = 28, 28\n",
    "\n",
    "# the data, shuffled and split between train and test sets\n",
    "(x_train, y_train), (x_test, y_test) = mnist.load_data()\n",
    "print(x_train.shape, y_train.shape, x_test.shape, y_test.shape)"
   ]
  },
  {
   "cell_type": "code",
   "execution_count": 4,
   "metadata": {},
   "outputs": [
    {
     "data": {
      "image/png": "[encoded data removed]",
      "text/plain": [
       "<matplotlib.figure.Figure at 0x1175f8160>"
      ]
     },
     "metadata": {},
     "output_type": "display_data"
    }
   ],
   "source": [
    "fig, ax = plt.subplots(2, 5)\n",
    "for i, a in enumerate(ax.flatten()):\n",
    "    a.imshow(x_train[i])\n",
    "fig.tight_layout()"
   ]
  },
  {
   "cell_type": "code",
   "execution_count": 5,
   "metadata": {
    "collapsed": true
   },
   "outputs": [],
   "source": [
    "if K.image_data_format() == 'channels_first':\n",
    "    x_train = x_train.reshape(x_train.shape[0], 1, img_rows, img_cols)\n",
    "    x_test = x_test.reshape(x_test.shape[0], 1, img_rows, img_cols)\n",
    "    input_shape = (1, img_rows, img_cols)\n",
    "else:\n",
    "    x_train = x_train.reshape(x_train.shape[0], img_rows, img_cols, 1)\n",
    "    x_test = x_test.reshape(x_test.shape[0], img_rows, img_cols, 1)\n",
    "    input_shape = (img_rows, img_cols, 1)"
   ]
  },
  {
   "cell_type": "code",
   "execution_count": 6,
   "metadata": {},
   "outputs": [
    {
     "name": "stdout",
     "output_type": "stream",
     "text": [
      "x_train shape: (60000, 28, 28, 1)\n",
      "60000 train samples\n",
      "10000 test samples\n"
     ]
    }
   ],
   "source": [
    "x_train = x_train.astype('float32')\n",
    "x_test = x_test.astype('float32')\n",
    "x_train /= 255\n",
    "x_test /= 255\n",
    "print('x_train shape:', x_train.shape)\n",
    "print(x_train.shape[0], 'train samples')\n",
    "print(x_test.shape[0], 'test samples')"
   ]
  },
  {
   "cell_type": "code",
   "execution_count": 7,
   "metadata": {},
   "outputs": [
    {
     "name": "stdout",
     "output_type": "stream",
     "text": [
      "(10000,)\n",
      "(10000, 10)\n"
     ]
    }
   ],
   "source": [
    "# convert class vectors to binary class matrices\n",
    "print(y_test.shape)\n",
    "y_train = keras.utils.to_categorical(y_train, num_classes)\n",
    "y_test = keras.utils.to_categorical(y_test, num_classes)\n",
    "print(y_test.shape)"
   ]
  },
  {
   "cell_type": "code",
   "execution_count": 8,
   "metadata": {
    "collapsed": true
   },
   "outputs": [],
   "source": [
    "model = Sequential()\n",
    "model.add(Conv2D(32, kernel_size=(3, 3),\n",
    "                 activation='relu',\n",
    "                 input_shape=input_shape))\n",
    "model.add(Conv2D(64, (3, 3), activation='relu'))\n",
    "model.add(MaxPooling2D(pool_size=(2, 2)))\n",
    "model.add(Dropout(0.25))\n",
    "model.add(Flatten())\n",
    "model.add(Dense(128, activation='relu'))\n",
    "model.add(Dropout(0.5))\n",
    "model.add(Dense(num_classes, activation='softmax'))"
   ]
  },
  {
   "cell_type": "code",
   "execution_count": 9,
   "metadata": {
    "collapsed": true
   },
   "outputs": [],
   "source": [
    "model.compile(loss=keras.losses.categorical_crossentropy,\n",
    "              optimizer=keras.optimizers.Adadelta(),\n",
    "              metrics=['accuracy'])"
   ]
  },
  {
   "cell_type": "code",
   "execution_count": 10,
   "metadata": {},
   "outputs": [
    {
     "name": "stdout",
     "output_type": "stream",
     "text": [
      "Train on 60000 samples, validate on 10000 samples\n",
      "Epoch 1/12\n",
      "60000/60000 [==============================] - 147s - loss: 0.3321 - acc: 0.8982 - val_loss: 0.0821 - val_acc: 0.9754\n",
      "Epoch 2/12\n",
      "60000/60000 [==============================] - 149s - loss: 0.1131 - acc: 0.9670 - val_loss: 0.0592 - val_acc: 0.9805\n",
      "Epoch 3/12\n",
      "60000/60000 [==============================] - 149s - loss: 0.0881 - acc: 0.9740 - val_loss: 0.0435 - val_acc: 0.9852\n",
      "Epoch 4/12\n",
      "60000/60000 [==============================] - 144s - loss: 0.0716 - acc: 0.9786 - val_loss: 0.0405 - val_acc: 0.9878\n",
      "Epoch 5/12\n",
      "60000/60000 [==============================] - 144s - loss: 0.0652 - acc: 0.9813 - val_loss: 0.0391 - val_acc: 0.9874\n",
      "Epoch 6/12\n",
      "60000/60000 [==============================] - 144s - loss: 0.0568 - acc: 0.9827 - val_loss: 0.0323 - val_acc: 0.9887\n",
      "Epoch 7/12\n",
      "60000/60000 [==============================] - 149s - loss: 0.0513 - acc: 0.9849 - val_loss: 0.0310 - val_acc: 0.9898\n",
      "Epoch 8/12\n",
      "60000/60000 [==============================] - 147s - loss: 0.0476 - acc: 0.9858 - val_loss: 0.0317 - val_acc: 0.9892\n",
      "Epoch 9/12\n",
      "60000/60000 [==============================] - 143s - loss: 0.0438 - acc: 0.9861 - val_loss: 0.0308 - val_acc: 0.9901\n",
      "Epoch 10/12\n",
      "60000/60000 [==============================] - 132s - loss: 0.0414 - acc: 0.9881 - val_loss: 0.0297 - val_acc: 0.9902\n",
      "Epoch 11/12\n",
      "60000/60000 [==============================] - 130s - loss: 0.0379 - acc: 0.9892 - val_loss: 0.0302 - val_acc: 0.9901\n",
      "Epoch 12/12\n",
      "60000/60000 [==============================] - 139s - loss: 0.0379 - acc: 0.9885 - val_loss: 0.0307 - val_acc: 0.9896\n"
     ]
    },
    {
     "data": {
      "text/plain": [
       "<keras.callbacks.History at 0x12eda8cf8>"
      ]
     },
     "execution_count": 10,
     "metadata": {},
     "output_type": "execute_result"
    }
   ],
   "source": [
    "model.fit(x_train, y_train,\n",
    "          batch_size=batch_size,\n",
    "          epochs=epochs,\n",
    "          verbose=1,\n",
    "          validation_data=(x_test, y_test))"
   ]
  },
  {
   "cell_type": "code",
   "execution_count": 12,
   "metadata": {},
   "outputs": [
    {
     "name": "stdout",
     "output_type": "stream",
     "text": [
      "Test loss: 0.0306601490876\n",
      "Test accuracy: 0.9896\n"
     ]
    }
   ],
   "source": [
    "score = model.evaluate(x_test, y_test, verbose=0)\n",
    "print('Test loss:', score[0])\n",
    "print('Test accuracy:', score[1])"
   ]
  },
  {
   "cell_type": "code",
   "execution_count": 13,
   "metadata": {},
   "outputs": [
    {
     "name": "stdout",
     "output_type": "stream",
     "text": [
      "10000/10000 [==============================] - 4s     \n",
      "\n",
      " [7 2 1 0 4 1 4 9 5 9]\n"
     ]
    }
   ],
   "source": [
    "pred = model.predict_classes(x_test)\n",
    "print('\\n', pred[:10])"
   ]
  },
  {
   "cell_type": "code",
   "execution_count": 14,
   "metadata": {},
   "outputs": [
    {
     "data": {
      "image/png": "[encoded data removed]",
      "text/plain": [
       "<matplotlib.figure.Figure at 0x12edee048>"
      ]
     },
     "metadata": {},
     "output_type": "display_data"
    }
   ],
   "source": [
    "fig, ax = plt.subplots(2, 5)\n",
    "for i, a in enumerate(ax.flatten()):\n",
    "    a.imshow(x_test[i].reshape((28, 28)))\n",
    "fig.tight_layout()"
   ]
  },
  {
   "cell_type": "code",
   "execution_count": 25,
   "metadata": {},
   "outputs": [
    {
     "name": "stdout",
     "output_type": "stream",
     "text": [
      "0.0104\n",
      "[  62  321  340  445  543  582  659  717  740  844  882  883  938  947 1014\n",
      " 1039 1112 1182 1226 1232 1247 1260 1319 1326 1364 1414 1530 1549 1621 1681\n",
      " 1709 1717 1754 1790 1878 1901 2035 2040 2043 2109 2118 2129 2130 2135 2280\n",
      " 2293 2387 2406 2454 2462 2488 2597 2654 2896 2921 2927 2939 3030 3060 3073\n",
      " 3422 3503 3520 3558 3559 3597 3727 3767 3808 3941 4075 4176 4205 4238 4248\n",
      " 4256 4497 4507 4536 4639 4740 4761 4807 5937 5955 6081 6091 6571 6576 6597\n",
      " 6625 6651 6783 8325 8408 9009 9015 9019 9530 9664 9692 9729 9770 9982] \n",
      " [5 7 3 0 7 2 1 5 9 7 7 5 5 9 5 2 6 5 2 4 5 1 0 2 2 7 7 6 6 7 5 0 2 7 3 4 3\n",
      " 6 8 7 0 2 9 1 5 0 1 4 5 0 4 3 1 0 2 7 5 0 7 2 0 1 4 0 5 3 9 2 8 6 6 7 1 3\n",
      " 1 2 7 2 5 9 5 8 0 3 8 5 5 3 1 7 2 8 6 6 6 2 2 2 8 7 7 6 0 6] \n",
      " [9 2 5 6 8 8 2 0 4 8 9 3 3 8 6 7 4 6 7 9 9 7 8 7 8 9 8 4 0 3 9 8 7 2 8 9 5\n",
      " 5 4 3 6 9 4 6 3 9 9 9 6 2 2 5 6 8 3 3 9 6 9 1 6 9 6 5 8 9 8 7 7 4 8 2 2 7\n",
      " 2 3 8 1 6 8 3 9 8 5 3 9 9 9 7 0 8 0 1 0 8 7 7 7 9 2 9 5 5 5]\n"
     ]
    }
   ],
   "source": [
    "# Reload the data to compare predictions vs. actual on test data:\n",
    "(x_train, y_train), (x_test, y_test) = mnist.load_data()\n",
    "print(np.mean(pred != y_test))\n",
    "inds = np.where(pred != y_test)[0]\n",
    "print(inds, '\\n', pred[inds], '\\n', y_test[inds])"
   ]
  },
  {
   "cell_type": "code",
   "execution_count": 28,
   "metadata": {},
   "outputs": [
    {
     "data": {
      "image/png": "[encoded data removed]",
      "text/plain": [
       "<matplotlib.figure.Figure at 0x122e30048>"
      ]
     },
     "metadata": {},
     "output_type": "display_data"
    }
   ],
   "source": [
    "fig, ax = plt.subplots(2, 5)\n",
    "for i, a in enumerate(ax.flatten()):\n",
    "    a.imshow(x_test[inds[i]])\n",
    "fig.tight_layout()"
   ]
  },
  {
   "cell_type": "code",
   "execution_count": null,
   "metadata": {
    "collapsed": true
   },
   "outputs": [],
   "source": []
  }
 ],
 "metadata": {
  "kernelspec": {
   "display_name": "Python 3",
   "language": "python",
   "name": "python3"
  },
  "language_info": {
   "codemirror_mode": {
    "name": "ipython",
    "version": 3
   },
   "file_extension": ".py",
   "mimetype": "text/x-python",
   "name": "python",
   "nbconvert_exporter": "python",
   "pygments_lexer": "ipython3",
   "version": "3.6.1"
  }
 },
 "nbformat": 4,
 "nbformat_minor": 2
}
