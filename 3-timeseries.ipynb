{
 "cells": [
  {
   "cell_type": "markdown",
   "metadata": {},
   "source": [
    "Taken from \n",
    "\n",
    "https://github.com/fchollet/keras/blob/master/examples/stateful_lstm.py\n",
    "\n",
    "Example script showing how to use stateful RNNs\n",
    "to model long sequences efficiently.\n",
    "\n",
    "Another one to try:\n",
    "\n",
    "http://machinelearningmastery.com/time-series-prediction-lstm-recurrent-neural-networks-python-keras/"
   ]
  },
  {
   "cell_type": "code",
   "execution_count": 1,
   "metadata": {},
   "outputs": [
    {
     "name": "stderr",
     "output_type": "stream",
     "text": [
      "Using TensorFlow backend.\n"
     ]
    }
   ],
   "source": [
    "from __future__ import print_function\n",
    "import numpy as np\n",
    "import matplotlib.pyplot as plt\n",
    "%matplotlib inline\n",
    "from keras.models import Sequential\n",
    "from keras.layers import Dense, LSTM"
   ]
  },
  {
   "cell_type": "code",
   "execution_count": 2,
   "metadata": {
    "collapsed": true
   },
   "outputs": [],
   "source": [
    "# since we are using stateful rnn tsteps can be set to 1\n",
    "tsteps = 1\n",
    "batch_size = 25\n",
    "epochs = 25\n",
    "# number of elements ahead that are used to make the prediction\n",
    "lahead = 1"
   ]
  },
  {
   "cell_type": "code",
   "execution_count": 3,
   "metadata": {
    "collapsed": true
   },
   "outputs": [],
   "source": [
    "def gen_cosine_amp(amp=100, period=1000, x0=0, xn=50000, step=1, k=0.0001):\n",
    "    \"\"\"Generates an absolute cosine time series with the amplitude\n",
    "    exponentially decreasing\n",
    "    Arguments:\n",
    "        amp: amplitude of the cosine function\n",
    "        period: period of the cosine function\n",
    "        x0: initial x of the time series\n",
    "        xn: final x of the time series\n",
    "        step: step of the time series discretization\n",
    "        k: exponential rate\n",
    "    \"\"\"\n",
    "    cos = np.zeros(((xn - x0) * step, 1, 1))\n",
    "    for i in range(len(cos)):\n",
    "        idx = x0 + i * step\n",
    "        cos[i, 0, 0] = amp * np.cos(2 * np.pi * idx / period)\n",
    "        cos[i, 0, 0] = cos[i, 0, 0] * np.exp(-k * idx)\n",
    "    return cos"
   ]
  },
  {
   "cell_type": "code",
   "execution_count": 4,
   "metadata": {},
   "outputs": [
    {
     "name": "stdout",
     "output_type": "stream",
     "text": [
      "Generating Data...\n",
      "Input shape: (50000, 1, 1)\n",
      "Output shape: (50000, 1)\n"
     ]
    }
   ],
   "source": [
    "print('Generating Data...')\n",
    "cos = gen_cosine_amp()\n",
    "print('Input shape:', cos.shape)\n",
    "\n",
    "expected_output = np.zeros((len(cos), 1))\n",
    "for i in range(len(cos) - lahead):\n",
    "    expected_output[i, 0] = np.mean(cos[i + 1:i + lahead + 1])\n",
    "\n",
    "print('Output shape:', expected_output.shape)"
   ]
  },
  {
   "cell_type": "code",
   "execution_count": 5,
   "metadata": {},
   "outputs": [
    {
     "name": "stdout",
     "output_type": "stream",
     "text": [
      "Creating Model...\n"
     ]
    }
   ],
   "source": [
    "print('Creating Model...')\n",
    "model = Sequential()\n",
    "model.add(LSTM(50,\n",
    "               input_shape=(tsteps, 1),\n",
    "               batch_size=batch_size,\n",
    "               return_sequences=True,\n",
    "               stateful=True))\n",
    "model.add(LSTM(50,\n",
    "               return_sequences=False,\n",
    "               stateful=True))\n",
    "model.add(Dense(1))\n",
    "model.compile(loss='mse', optimizer='rmsprop')"
   ]
  },
  {
   "cell_type": "code",
   "execution_count": 6,
   "metadata": {},
   "outputs": [
    {
     "name": "stdout",
     "output_type": "stream",
     "text": [
      "Training\n",
      "Epoch 0 / 25\n",
      "Epoch 1/1\n",
      "50000/50000 [==============================] - 15s - loss: 349.0051    \n",
      "Epoch 1 / 25\n",
      "Epoch 1/1\n",
      "50000/50000 [==============================] - 14s - loss: 172.4938    \n",
      "Epoch 2 / 25\n",
      "Epoch 1/1\n",
      "50000/50000 [==============================] - 13s - loss: 145.0442    \n",
      "Epoch 3 / 25\n",
      "Epoch 1/1\n",
      "50000/50000 [==============================] - 14s - loss: 171.3566    \n",
      "Epoch 4 / 25\n",
      "Epoch 1/1\n",
      "50000/50000 [==============================] - 14s - loss: 70.5097    \n",
      "Epoch 5 / 25\n",
      "Epoch 1/1\n",
      "50000/50000 [==============================] - 13s - loss: 54.4754    \n",
      "Epoch 6 / 25\n",
      "Epoch 1/1\n",
      "50000/50000 [==============================] - 13s - loss: 34.0377    \n",
      "Epoch 7 / 25\n",
      "Epoch 1/1\n",
      "50000/50000 [==============================] - 13s - loss: 30.9383    \n",
      "Epoch 8 / 25\n",
      "Epoch 1/1\n",
      "50000/50000 [==============================] - 13s - loss: 20.5466    \n",
      "Epoch 9 / 25\n",
      "Epoch 1/1\n",
      "50000/50000 [==============================] - 13s - loss: 15.2958    \n",
      "Epoch 10 / 25\n",
      "Epoch 1/1\n",
      "50000/50000 [==============================] - 13s - loss: 12.1089    \n",
      "Epoch 11 / 25\n",
      "Epoch 1/1\n",
      "50000/50000 [==============================] - 13s - loss: 10.5661    \n",
      "Epoch 12 / 25\n",
      "Epoch 1/1\n",
      "50000/50000 [==============================] - 13s - loss: 8.4006    \n",
      "Epoch 13 / 25\n",
      "Epoch 1/1\n",
      "50000/50000 [==============================] - 13s - loss: 8.0730    \n",
      "Epoch 14 / 25\n",
      "Epoch 1/1\n",
      "50000/50000 [==============================] - 12s - loss: 6.9963    \n",
      "Epoch 15 / 25\n",
      "Epoch 1/1\n",
      "50000/50000 [==============================] - 13s - loss: 6.9572    \n",
      "Epoch 16 / 25\n",
      "Epoch 1/1\n",
      "50000/50000 [==============================] - 12s - loss: 6.0278    \n",
      "Epoch 17 / 25\n",
      "Epoch 1/1\n",
      "50000/50000 [==============================] - 12s - loss: 5.3625    \n",
      "Epoch 18 / 25\n",
      "Epoch 1/1\n",
      "50000/50000 [==============================] - 12s - loss: 5.3042    \n",
      "Epoch 19 / 25\n",
      "Epoch 1/1\n",
      "50000/50000 [==============================] - 12s - loss: 4.9570    \n",
      "Epoch 20 / 25\n",
      "Epoch 1/1\n",
      "50000/50000 [==============================] - 12s - loss: 4.9938    \n",
      "Epoch 21 / 25\n",
      "Epoch 1/1\n",
      "50000/50000 [==============================] - 12s - loss: 4.1925    \n",
      "Epoch 22 / 25\n",
      "Epoch 1/1\n",
      "50000/50000 [==============================] - 12s - loss: 5.7811    \n",
      "Epoch 23 / 25\n",
      "Epoch 1/1\n",
      "50000/50000 [==============================] - 12s - loss: 4.8888    \n",
      "Epoch 24 / 25\n",
      "Epoch 1/1\n",
      "50000/50000 [==============================] - 12s - loss: 4.6763    \n"
     ]
    }
   ],
   "source": [
    "print('Training')\n",
    "for i in range(epochs):\n",
    "    print('Epoch', i, '/', epochs)\n",
    "\n",
    "    # Note that the last state for sample i in a batch will\n",
    "    # be used as initial state for sample i in the next batch.\n",
    "    # Thus we are simultaneously training on batch_size series with\n",
    "    # lower resolution than the original series contained in cos.\n",
    "    # Each of these series are offset by one step and can be\n",
    "    # extracted with cos[i::batch_size].\n",
    "\n",
    "    model.fit(cos, expected_output,\n",
    "              batch_size=batch_size,\n",
    "              epochs=1,\n",
    "              verbose=1,\n",
    "              shuffle=False)\n",
    "    model.reset_states()"
   ]
  },
  {
   "cell_type": "code",
   "execution_count": 7,
   "metadata": {},
   "outputs": [
    {
     "name": "stdout",
     "output_type": "stream",
     "text": [
      "Predicting\n",
      "Plotting Results\n"
     ]
    },
    {
     "data": {
      "image/png": "[encoded data removed]",
      "text/plain": [
       "<matplotlib.figure.Figure at 0x1064a46a0>"
      ]
     },
     "metadata": {},
     "output_type": "display_data"
    }
   ],
   "source": [
    "print('Predicting')\n",
    "predicted_output = model.predict(cos, batch_size=batch_size)\n",
    "\n",
    "print('Plotting Results')\n",
    "plt.subplot(2, 1, 1)\n",
    "plt.plot(expected_output)\n",
    "plt.title('Expected')\n",
    "plt.subplot(2, 1, 2)\n",
    "plt.plot(predicted_output)\n",
    "plt.title('Predicted')\n",
    "plt.show()"
   ]
  },
  {
   "cell_type": "code",
   "execution_count": null,
   "metadata": {
    "collapsed": true
   },
   "outputs": [],
   "source": []
  }
 ],
 "metadata": {
  "kernelspec": {
   "display_name": "Python 3",
   "language": "python",
   "name": "python3"
  },
  "language_info": {
   "codemirror_mode": {
    "name": "ipython",
    "version": 3
   },
   "file_extension": ".py",
   "mimetype": "text/x-python",
   "name": "python",
   "nbconvert_exporter": "python",
   "pygments_lexer": "ipython3",
   "version": "3.6.1"
  }
 },
 "nbformat": 4,
 "nbformat_minor": 2
}
